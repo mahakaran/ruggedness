{
 "cells": [
  {
   "cell_type": "code",
   "execution_count": 1,
   "id": "accompanied-guidance",
   "metadata": {},
   "outputs": [],
   "source": [
    "# imports\n",
    "import numpy as np\n",
    "import sys\n",
    "sys.path.append('../')\n",
    "from landscape_models import make_NK, make_RMF\n",
    "import matplotlib.pyplot as plt\n",
    "import utils\n",
    "import pandas as pd\n",
    "from ruggedness import NMaximaEstimator\n",
    "from tqdm.notebook import tqdm\n",
    "import seaborn as sns\n",
    "from sklearn.preprocessing import minmax_scale"
   ]
  },
  {
   "cell_type": "markdown",
   "id": "aggregate-perry",
   "metadata": {},
   "source": [
    "# Normalising for sequence length $N$\n",
    "\n",
    "Below we normalise $N_{max}$ for sequence length for $NK$ landscapes.  "
   ]
  },
  {
   "cell_type": "code",
   "execution_count": 2,
   "id": "wanted-liquid",
   "metadata": {},
   "outputs": [],
   "source": [
    "def run_NK_replicates(Kminus, n_values=[5,6,7,8,9] ,alphabet='AGC', reps=10, dist=np.random.uniform): \n",
    "    \"\"\"Function to create replicate NK landscapes, calculate Nmax statistics, and return\n",
    "    the results.\"\"\"\n",
    "    \n",
    "    ALPHABET = alphabet\n",
    "    SEQ_LENS = n_values \n",
    "    REPL     = reps\n",
    "    DIST     = np.random.uniform\n",
    "    \n",
    "    results = []\n",
    "    ruggs = []\n",
    "    for N in tqdm(SEQ_LENS): \n",
    "        repls = []\n",
    "        for replicate in range(REPL):\n",
    "            landscape = make_NK(N, N-Kminus, ALPHABET, np.random.uniform)\n",
    "            estimator = NMaximaEstimator(landscape, ALPHABET).fit()\n",
    "            n_maxima  = estimator.n_maxima\n",
    "            repls.append(n_maxima)\n",
    "        results.append(repls)\n",
    "        ruggs.append((N-Kminus)/N)\n",
    "        \n",
    "    results = np.array(results)\n",
    "    \n",
    "    return results, ruggs\n"
   ]
  },
  {
   "cell_type": "markdown",
   "id": "promising-above",
   "metadata": {},
   "source": [
    "### Running the simulations"
   ]
  },
  {
   "cell_type": "code",
   "execution_count": 3,
   "id": "agreed-globe",
   "metadata": {},
   "outputs": [
    {
     "data": {
      "application/vnd.jupyter.widget-view+json": {
       "model_id": "bf9f2d70af884e35b02fef5b773df6a6",
       "version_major": 2,
       "version_minor": 0
      },
      "text/plain": [
       "  0%|          | 0/5 [00:00<?, ?it/s]"
      ]
     },
     "metadata": {},
     "output_type": "display_data"
    },
    {
     "data": {
      "application/vnd.jupyter.widget-view+json": {
       "model_id": "63857dc2cac94a1fb4a8da09eba6420a",
       "version_major": 2,
       "version_minor": 0
      },
      "text/plain": [
       "  0%|          | 0/5 [00:00<?, ?it/s]"
      ]
     },
     "metadata": {},
     "output_type": "display_data"
    },
    {
     "data": {
      "application/vnd.jupyter.widget-view+json": {
       "model_id": "4304e377a16948a3a72ee5d5848ff44a",
       "version_major": 2,
       "version_minor": 0
      },
      "text/plain": [
       "  0%|          | 0/5 [00:00<?, ?it/s]"
      ]
     },
     "metadata": {},
     "output_type": "display_data"
    },
    {
     "data": {
      "application/vnd.jupyter.widget-view+json": {
       "model_id": "b14a9ba3f09846518356553b55cfbbbd",
       "version_major": 2,
       "version_minor": 0
      },
      "text/plain": [
       "  0%|          | 0/5 [00:00<?, ?it/s]"
      ]
     },
     "metadata": {},
     "output_type": "display_data"
    }
   ],
   "source": [
    "data = [] #initialise list to capture data as it is created \n",
    "Ks   = [1,2,3, 4] #\n",
    "\n",
    "for K in Ks: \n",
    "    data.append(run_NK_replicates(K))"
   ]
  },
  {
   "cell_type": "markdown",
   "id": "painted-showcase",
   "metadata": {},
   "source": [
    "### Processing the data"
   ]
  },
  {
   "cell_type": "code",
   "execution_count": 6,
   "id": "phantom-tobacco",
   "metadata": {},
   "outputs": [],
   "source": [
    "res = np.array([i[0] for i in data]) #take the first element of each element of data"
   ]
  },
  {
   "cell_type": "code",
   "execution_count": 7,
   "id": "employed-specialist",
   "metadata": {},
   "outputs": [],
   "source": [
    "res_means     = np.mean(res, axis=2) #calculate the appropriate means and std\n",
    "res_std       = np.std(res, axis=2)\n",
    "percent_error = np.divide(res_std, res_means) #get std as a percentage"
   ]
  },
  {
   "cell_type": "code",
   "execution_count": 24,
   "id": "unique-marketplace",
   "metadata": {},
   "outputs": [
    {
     "data": {
      "text/plain": [
       "array([[  21.7,   56.6,  142.8,  382.5, 1033.3],\n",
       "       [  13.3,   38. ,   93.4,  268.2,  716. ],\n",
       "       [   7.8,   22.7,   64.2,  170.7,  491.1],\n",
       "       [   3.4,   10.5,   34. ,  106.5,  312.6]])"
      ]
     },
     "execution_count": 24,
     "metadata": {},
     "output_type": "execute_result"
    }
   ],
   "source": [
    "res_means"
   ]
  },
  {
   "cell_type": "code",
   "execution_count": 25,
   "id": "tested-melissa",
   "metadata": {},
   "outputs": [
    {
     "data": {
      "text/plain": [
       "array([[ 1.26885775,  6.00333241,  7.79487011,  8.15168694, 15.45347857],\n",
       "       [ 2.86530976,  5.        ,  5.37028863,  7.8460181 , 28.90674662],\n",
       "       [ 1.07703296,  3.79605058,  5.63560112,  6.46606526, 12.96495276],\n",
       "       [ 1.11355287,  1.96214169,  3.87298335, 11.50869237, 25.08465666]])"
      ]
     },
     "execution_count": 25,
     "metadata": {},
     "output_type": "execute_result"
    }
   ],
   "source": [
    "res_std"
   ]
  },
  {
   "cell_type": "code",
   "execution_count": 26,
   "id": "acute-lindsay",
   "metadata": {},
   "outputs": [
    {
     "data": {
      "text/plain": [
       "0.08012820512820513"
      ]
     },
     "execution_count": 26,
     "metadata": {},
     "output_type": "execute_result"
    }
   ],
   "source": [
    "25/312"
   ]
  },
  {
   "cell_type": "code",
   "execution_count": 20,
   "id": "editorial-classics",
   "metadata": {},
   "outputs": [
    {
     "data": {
      "text/plain": [
       "array([[0.05847271, 0.10606594, 0.05458593, 0.0213116 , 0.01495546],\n",
       "       [0.21543682, 0.13157895, 0.05749774, 0.02925436, 0.04037255],\n",
       "       [0.13808115, 0.1672269 , 0.08778195, 0.0378797 , 0.02639982],\n",
       "       [0.32751555, 0.18687064, 0.11391127, 0.10806284, 0.08024522]])"
      ]
     },
     "execution_count": 20,
     "metadata": {},
     "output_type": "execute_result"
    }
   ],
   "source": [
    "percent_error"
   ]
  },
  {
   "cell_type": "code",
   "execution_count": 9,
   "id": "surface-attack",
   "metadata": {},
   "outputs": [],
   "source": [
    "nvals = np.array([5,6,7,8,9])\n",
    "dat   = np.array([[N-K for N in nvals] for K in Ks]) #obtain the different ruggedness values. We will use these later to correct for ruggedness differences"
   ]
  },
  {
   "cell_type": "code",
   "execution_count": 51,
   "id": "cooked-better",
   "metadata": {},
   "outputs": [
    {
     "data": {
      "image/png": "[encoded data removed]",
      "text/plain": [
       "<Figure size 432x288 with 1 Axes>"
      ]
     },
     "metadata": {
      "needs_background": "light"
     },
     "output_type": "display_data"
    }
   ],
   "source": [
    "#_ = plt.figure(figsize=(10,7))\n",
    "\n",
    "for i in range(len(res_means)):\n",
    "    plt.errorbar(nvals, res_means[i], yerr=res_std[i], capsize=2,\n",
    "                 marker='.', label='$K = N-{}$'.format(Ks[i]))\n",
    "plt.title('Sequence length versus $N_{max}$ for different values of $K$ and constant $|A|$', fontsize=15)\n",
    "plt.xlabel('Sequence length ($N$)', fontsize=15)\n",
    "plt.ylabel('$N_{max}$', fontsize=15)\n",
    "plt.xticks(nvals)\n",
    "\n",
    "plt.legend()\n",
    "plt.savefig('seq_len_vs_nmax_nonorm.svg')"
   ]
  },
  {
   "cell_type": "markdown",
   "id": "overhead-aerospace",
   "metadata": {},
   "source": [
    "### Normalising the data for sequence length"
   ]
  },
  {
   "cell_type": "code",
   "execution_count": 27,
   "id": "stainless-monday",
   "metadata": {},
   "outputs": [],
   "source": [
    "normalisation = lambda A, N: (A**N)/(N*(A-1)+1) #this is the function we will use for normalisation "
   ]
  },
  {
   "cell_type": "code",
   "execution_count": 28,
   "id": "latter-concrete",
   "metadata": {},
   "outputs": [],
   "source": [
    "norm_matrix = np.array([normalisation(3, i) for i in nvals]) #obtain matrix that we will use to normalise \n",
    "#where does the above 2 come into play, I wonder...  It is just a scalar, nothing to worry,\n",
    "#about, will still normalise\n"
   ]
  },
  {
   "cell_type": "code",
   "execution_count": 29,
   "id": "fuzzy-membrane",
   "metadata": {},
   "outputs": [
    {
     "data": {
      "text/plain": [
       "array([  22.09090909,   56.07692308,  145.8       ,  385.94117647,\n",
       "       1035.94736842])"
      ]
     },
     "execution_count": 29,
     "metadata": {},
     "output_type": "execute_result"
    }
   ],
   "source": [
    "norm_matrix"
   ]
  },
  {
   "cell_type": "code",
   "execution_count": 30,
   "id": "forbidden-designation",
   "metadata": {},
   "outputs": [
    {
     "data": {
      "text/plain": [
       "array([[  21.7,   56.6,  142.8,  382.5, 1033.3],\n",
       "       [  13.3,   38. ,   93.4,  268.2,  716. ],\n",
       "       [   7.8,   22.7,   64.2,  170.7,  491.1],\n",
       "       [   3.4,   10.5,   34. ,  106.5,  312.6]])"
      ]
     },
     "execution_count": 30,
     "metadata": {},
     "output_type": "execute_result"
    }
   ],
   "source": [
    "#in the below array, the rows are different N values; in the columns, different -K values\n",
    "res_means"
   ]
  },
  {
   "cell_type": "code",
   "execution_count": 31,
   "id": "coated-trauma",
   "metadata": {},
   "outputs": [],
   "source": [
    "length_normalised = res_means/norm_matrix #normalise the result"
   ]
  },
  {
   "cell_type": "code",
   "execution_count": 33,
   "id": "grateful-front",
   "metadata": {},
   "outputs": [],
   "source": [
    "length_normed_errors = np.multiply(length_normalised, percent_error)"
   ]
  },
  {
   "cell_type": "code",
   "execution_count": 36,
   "id": "directed-cologne",
   "metadata": {},
   "outputs": [
    {
     "data": {
      "text/plain": [
       "array([[0.98230453, 1.00932785, 0.97942387, 0.99108368, 0.9974445 ],\n",
       "       [0.60205761, 0.6776406 , 0.64060357, 0.69492455, 0.6911548 ],\n",
       "       [0.35308642, 0.4048011 , 0.44032922, 0.44229538, 0.47405883],\n",
       "       [0.15390947, 0.1872428 , 0.23319616, 0.27594879, 0.30175278]])"
      ]
     },
     "execution_count": 36,
     "metadata": {},
     "output_type": "execute_result"
    }
   ],
   "source": [
    "length_normalised"
   ]
  },
  {
   "cell_type": "code",
   "execution_count": 35,
   "id": "equal-delay",
   "metadata": {},
   "outputs": [
    {
     "data": {
      "text/plain": [
       "array([[0.05847271, 0.10606594, 0.05458593, 0.0213116 , 0.01495546],\n",
       "       [0.21543682, 0.13157895, 0.05749774, 0.02925436, 0.04037255],\n",
       "       [0.13808115, 0.1672269 , 0.08778195, 0.0378797 , 0.02639982],\n",
       "       [0.32751555, 0.18687064, 0.11391127, 0.10806284, 0.08024522]])"
      ]
     },
     "execution_count": 35,
     "metadata": {},
     "output_type": "execute_result"
    }
   ],
   "source": [
    "percent_error"
   ]
  },
  {
   "cell_type": "code",
   "execution_count": 34,
   "id": "seasonal-glossary",
   "metadata": {},
   "outputs": [
    {
     "data": {
      "text/plain": [
       "array([[0.05743801, 0.10705531, 0.05346276, 0.02112158, 0.01491724],\n",
       "       [0.12970538, 0.08916324, 0.03683326, 0.02032957, 0.02790368],\n",
       "       [0.04875458, 0.06769363, 0.03865296, 0.01675402, 0.01251507],\n",
       "       [0.05040774, 0.03499018, 0.02656367, 0.02981981, 0.02421422]])"
      ]
     },
     "execution_count": 34,
     "metadata": {},
     "output_type": "execute_result"
    }
   ],
   "source": [
    "length_normed_errors"
   ]
  },
  {
   "cell_type": "code",
   "execution_count": 40,
   "id": "rental-language",
   "metadata": {},
   "outputs": [
    {
     "data": {
      "text/plain": [
       "<matplotlib.legend.Legend at 0x7f63c32b0a10>"
      ]
     },
     "execution_count": 40,
     "metadata": {},
     "output_type": "execute_result"
    },
    {
     "data": {
      "image/png": "[encoded data removed]",
      "text/plain": [
       "<Figure size 432x288 with 1 Axes>"
      ]
     },
     "metadata": {
      "needs_background": "light"
     },
     "output_type": "display_data"
    }
   ],
   "source": [
    "\n",
    "\n",
    "#_ = plt.figure(figsize=(10,7))\n",
    "\n",
    "for i in range(len(length_normalised)):\n",
    "    plt.errorbar(nvals, length_normalised[i], yerr=length_normed_errors[i],\n",
    "                 marker='.', capsize=2, label='K = {}'.format(Ks[i]))\n",
    "plt.title('Sequence length versus normalised $N_{max}$ for different values \\n of $K$ and constant $|A|$', fontsize=15)\n",
    "plt.xlabel('Sequence length ($N$)', fontsize=15)\n",
    "plt.ylabel('Normalised $N_{max}$', fontsize=15)\n",
    "plt.legend()"
   ]
  },
  {
   "cell_type": "markdown",
   "id": "conceptual-horse",
   "metadata": {},
   "source": [
    "### Ruggedness correction"
   ]
  },
  {
   "cell_type": "markdown",
   "id": "durable-difference",
   "metadata": {},
   "source": [
    "Due to the way the $NK$ landscape algorithm works, disparities in ruggedness (given by $K/N$) occur as $K$ and $N$ change; therefore, even within a single $K$ value in the above graph, the ruggedness is not equal, and this is reflected in a tendency for normalised $N_{max}$ to increase with sequence length (above). To correct for this, we calculate the ruggedness given $N$ and $K$, and normalise the length-normalised data. "
   ]
  },
  {
   "cell_type": "code",
   "execution_count": 41,
   "id": "limiting-darkness",
   "metadata": {},
   "outputs": [],
   "source": [
    "rugged_vals = np.array([i[1] for i in data]) #the second element contains the ruggedness values "
   ]
  },
  {
   "cell_type": "code",
   "execution_count": 42,
   "id": "turkish-flood",
   "metadata": {},
   "outputs": [
    {
     "data": {
      "text/plain": [
       "array([[0.8       , 0.83333333, 0.85714286, 0.875     , 0.88888889],\n",
       "       [0.6       , 0.66666667, 0.71428571, 0.75      , 0.77777778],\n",
       "       [0.4       , 0.5       , 0.57142857, 0.625     , 0.66666667],\n",
       "       [0.2       , 0.33333333, 0.42857143, 0.5       , 0.55555556]])"
      ]
     },
     "execution_count": 42,
     "metadata": {},
     "output_type": "execute_result"
    }
   ],
   "source": [
    "rugged_vals"
   ]
  },
  {
   "cell_type": "markdown",
   "id": "convenient-addition",
   "metadata": {},
   "source": [
    "Clearly the actual ruggedness values (given by $K/N$) increase with $N$, just because that's how the NK model is set up. Note that we want to normalise across a given row. To do this, we take the minimum value across that row and divide it by the rest of the row. Then, to normalise given this, we simply take the reciprocal and multiply it by our calculated, length-normalised $N_{max}$.\n"
   ]
  },
  {
   "cell_type": "code",
   "execution_count": 43,
   "id": "juvenile-delay",
   "metadata": {},
   "outputs": [],
   "source": [
    "rugged_norm_matrix = 1/np.divide(rugged_vals, np.min(rugged_vals, axis=1).reshape(-1,1)) #calculate min value of row, divide row by min value, then take the reciprocal of the whole matrix"
   ]
  },
  {
   "cell_type": "code",
   "execution_count": 44,
   "id": "editorial-sequence",
   "metadata": {},
   "outputs": [],
   "source": [
    "length_ruggedness_normalised = np.multiply(length_normalised, rugged_norm_matrix) #calculate the final normalised data"
   ]
  },
  {
   "cell_type": "code",
   "execution_count": 46,
   "id": "minimal-calcium",
   "metadata": {},
   "outputs": [],
   "source": [
    "final_error = np.multiply(length_ruggedness_normalised, percent_error)"
   ]
  },
  {
   "cell_type": "code",
   "execution_count": 50,
   "id": "harmful-advisory",
   "metadata": {},
   "outputs": [
    {
     "data": {
      "image/png": "[encoded data removed]",
      "text/plain": [
       "<Figure size 432x288 with 1 Axes>"
      ]
     },
     "metadata": {
      "needs_background": "light"
     },
     "output_type": "display_data"
    }
   ],
   "source": [
    "\n",
    "#_ = plt.figure(figsize=(10,7))\n",
    "\n",
    "for i in range(len(length_ruggedness_normalised)):\n",
    "    plt.errorbar(nvals, length_ruggedness_normalised[i], yerr=final_error[i], \n",
    "                 marker='.', capsize=2, label='$K = N-{}$'.format(Ks[i]))\n",
    "plt.title('Sequence length versus length and ruggedness normalised $N_{max}$ for \\n different values of $K$ and constant $|A|$', fontsize=15)\n",
    "plt.xlabel('Sequence length ($N$)', fontsize=15)\n",
    "plt.ylabel('Normalised $N_{max}$', fontsize=15)\n",
    "plt.xticks(nvals)\n",
    "plt.legend()\n",
    "plt.savefig('seq_len_vs_nmax_normed_corrected.svg')"
   ]
  },
  {
   "cell_type": "code",
   "execution_count": null,
   "id": "strange-trouble",
   "metadata": {},
   "outputs": [],
   "source": []
  },
  {
   "cell_type": "markdown",
   "id": "pediatric-london",
   "metadata": {},
   "source": [
    "We note that the above 2 normalisation procedures (normalising for sequence length and for ruggedness) are commutative i.e. it does not matter which one we do first. We also note that the variance (i.e. the error) of $N_{max}$ decreases as sequence length increases, for all ruggedness values. Given that $|S| = |A|^N$, the sequence space size $|S|$ increases exponentially with $N$; further, recall that for $NK$ landscapes $\\max N_{max} = \\frac{|A|^N}{N+1}$, which is also exponential. We leave the remainder of the explanation as an exercise for the reader LOL. "
   ]
  },
  {
   "cell_type": "markdown",
   "id": "protecting-northeast",
   "metadata": {},
   "source": [
    "# Normalising for alphabet size $|A|$\n",
    "\n",
    "In this section we want to determine and account for the effects of $|A|$ on $N_{max}$ for $NK$ landscapes. "
   ]
  },
  {
   "cell_type": "code",
   "execution_count": 3,
   "id": "statutory-scotland",
   "metadata": {},
   "outputs": [],
   "source": [
    "def run_NK_AA_replicates(K=2, N=3 ,alphabets=['AGC'], reps=10, dist=np.random.uniform): \n",
    "    REPL     = reps\n",
    "    DIST     = np.random.uniform\n",
    "    \n",
    "    results = []\n",
    "    landscapes = []\n",
    "    \n",
    "    for alph in alphabets: \n",
    "    \n",
    "    \n",
    "    \n",
    "        repls = []\n",
    "        for replicate in range(REPL):\n",
    "            #print(N, N-K)\n",
    "            landscape = make_NK(N, K, alph, np.random.uniform)\n",
    "            landscapes.append(landscape)\n",
    "            estimator = NMaximaEstimator(landscape, alph).fit()\n",
    "            n_maxima  = estimator.n_maxima\n",
    "            repls.append(n_maxima)\n",
    "        results.append(repls)\n",
    "        #ruggs.append((N-Kminus)/N)\n",
    "        \n",
    "    results = np.array(results)\n",
    "    \n",
    "    return results, landscapes"
   ]
  },
  {
   "cell_type": "code",
   "execution_count": 53,
   "id": "white-electricity",
   "metadata": {},
   "outputs": [],
   "source": [
    "alphabet_list = ['AGC', 'AGCT', 'AGCTH', 'AGCTHL','AGCTHLY', 'AGCTHLYK', 'AGCTHLYKN', 'AGCTHLYKNW', \n",
    "                'AGCTHLYKNWR'] #alphabet list\n",
    "cardinality_alphabet_list = [len(set(i)) for i in alphabet_list[1:]] #calculate cardinality of alphabet list "
   ]
  },
  {
   "cell_type": "markdown",
   "id": "empirical-recovery",
   "metadata": {},
   "source": [
    "Below, we produce replicate $NK$ landscapes at 4 increasing ruggedness values and increasing $|A|$. "
   ]
  },
  {
   "cell_type": "code",
   "execution_count": 57,
   "id": "scientific-injection",
   "metadata": {},
   "outputs": [],
   "source": [
    "data2 = [run_NK_AA_replicates(K=i, N=4, alphabets=alphabet_list[1:]) for i in [0,1,2, 3]] "
   ]
  },
  {
   "cell_type": "code",
   "execution_count": 58,
   "id": "internal-privilege",
   "metadata": {},
   "outputs": [],
   "source": [
    "results_2 = np.array([i[0] for i in data2])"
   ]
  },
  {
   "cell_type": "code",
   "execution_count": 59,
   "id": "arabic-opportunity",
   "metadata": {},
   "outputs": [],
   "source": [
    "#results_2 #the first dimension of this tensor array is K values -- we can see the unanimous presence of 1's in the \n",
    "            #very first array. Let's get the means and then plot"
   ]
  },
  {
   "cell_type": "code",
   "execution_count": 60,
   "id": "harmful-queens",
   "metadata": {},
   "outputs": [],
   "source": [
    "mean_results2    = np.mean(results_2, axis=2)\n",
    "std_results2     = np.std(results_2, axis=2)\n",
    "percent_err_res2 = np.divide(std_results2, mean_results2)"
   ]
  },
  {
   "cell_type": "code",
   "execution_count": 61,
   "id": "consistent-welsh",
   "metadata": {},
   "outputs": [],
   "source": [
    "kvals = [0,1,2, 3] #initialise K vals list. Remember that N vals is constant in this experiment"
   ]
  },
  {
   "cell_type": "code",
   "execution_count": 62,
   "id": "spanish-increase",
   "metadata": {},
   "outputs": [
    {
     "data": {
      "text/plain": [
       "Text(0.5, 1.0, 'Alphabet size $|A|$ and $N_{max}$ for different values of $K$ and constant $N$')"
      ]
     },
     "execution_count": 62,
     "metadata": {},
     "output_type": "execute_result"
    },
    {
     "data": {
      "image/png": "[encoded data removed]",
      "text/plain": [
       "<Figure size 432x288 with 1 Axes>"
      ]
     },
     "metadata": {
      "needs_background": "light"
     },
     "output_type": "display_data"
    }
   ],
   "source": [
    "#_ = plt.figure(figsize=(10,7))\n",
    "for i in range(len(mean_results2)): \n",
    "    plt.errorbar(cardinality_alphabet_list, mean_results2[i], yerr=std_results2[i], \n",
    "                 label='K = {}, K/N = {}'.format(kvals[i], kvals[i]/4), marker='.', capsize=2)\n",
    "plt.legend()\n",
    "plt.xlabel('Alphabet size ($|A|$)', fontsize=15)\n",
    "plt.ylabel('$N_{max}$', fontsize=15)\n",
    "plt.title('Alphabet size $|A|$ and $N_{max}$ for different values of $K$ and constant $N$', fontsize=15)\n"
   ]
  },
  {
   "cell_type": "markdown",
   "id": "fifty-gross",
   "metadata": {},
   "source": [
    "### Normalising for $|A|$"
   ]
  },
  {
   "cell_type": "markdown",
   "id": "alone-consolidation",
   "metadata": {},
   "source": [
    "$K/N$ (ruggedness) seems to affect the exponentiality of the above graph. When ruggedness is 0, a constant value for $N_{max}$ is observed. How can we normalise here? Recall that $\\max N_{max} = \\frac{|A|^N}{N+1}$. Rather than changing $N$ in the equation like we did above, we can now change $|A|$. \n",
    "\n",
    "\n",
    "\n",
    "\n",
    "\n",
    "\n",
    "\n",
    "\n",
    "\n",
    "\n",
    "\n",
    "\n",
    "(**PROBLEM 1** -- this puts into question the whole enterprise  of trying to normalise for ruggedness doesn't it? If we only have one maxima in a landscape, but we have an exponentially larger landscape, how can we normalise? -- is the ruggedness of the latter landscape lower (which seems intuitive), given that we are dividing by such a large amount? Or is it simply a violation of statistical isotropy?  Because if we assume statistical isotropy, then it seems that the bigger landscape would indeed have lower ruggedness. Again, we run into problems regarding definitions of ruggedness.)"
   ]
  },
  {
   "cell_type": "code",
   "execution_count": 63,
   "id": "suffering-breast",
   "metadata": {},
   "outputs": [],
   "source": [
    "normalisation??"
   ]
  },
  {
   "cell_type": "code",
   "execution_count": 64,
   "id": "opponent-entrance",
   "metadata": {},
   "outputs": [],
   "source": [
    "norm_A_matrix = np.array([len(i)**4/(4*(len(i)-1)+1) for i in alphabet_list[1:]])"
   ]
  },
  {
   "cell_type": "code",
   "execution_count": 65,
   "id": "moving-balance",
   "metadata": {},
   "outputs": [
    {
     "data": {
      "text/plain": [
       "array([ 19.69230769,  36.76470588,  61.71428571,  96.04      ,\n",
       "       141.24137931, 198.81818182, 270.27027027, 357.09756098])"
      ]
     },
     "execution_count": 65,
     "metadata": {},
     "output_type": "execute_result"
    }
   ],
   "source": [
    "norm_A_matrix"
   ]
  },
  {
   "cell_type": "code",
   "execution_count": 66,
   "id": "expired-gregory",
   "metadata": {},
   "outputs": [],
   "source": [
    "norm_A_results = mean_results2/norm_A_matrix\n",
    "norm_A_error   = np.multiply(norm_A_results, percent_err_res2)"
   ]
  },
  {
   "cell_type": "code",
   "execution_count": 67,
   "id": "numerical-dodge",
   "metadata": {},
   "outputs": [
    {
     "data": {
      "text/plain": [
       "Text(0.5, 1.0, 'Alphabet size $|A|$ and normalised $N_{max}$ for different values of $K$ and constant $N$')"
      ]
     },
     "execution_count": 67,
     "metadata": {},
     "output_type": "execute_result"
    },
    {
     "data": {
      "image/png": "[encoded data removed]",
      "text/plain": [
       "<Figure size 432x288 with 1 Axes>"
      ]
     },
     "metadata": {
      "needs_background": "light"
     },
     "output_type": "display_data"
    }
   ],
   "source": [
    "#_ = plt.figure(figsize=(10,7))\n",
    "for i in range(len(mean_results2)): \n",
    "    plt.errorbar(cardinality_alphabet_list, norm_A_results[i], yerr=norm_A_error[i], \n",
    "                 label='K = {}, K/N = {}'.format(kvals[i], kvals[i]/4), marker='.', capsize=2)\n",
    "plt.legend()\n",
    "plt.xlabel('Alphabet size ($|A|$)', fontsize=15)\n",
    "plt.ylabel('$N_{max}$', fontsize=15)\n",
    "plt.title('Alphabet size $|A|$ and normalised $N_{max}$ for different values of $K$ and constant $N$', fontsize=15)\n"
   ]
  },
  {
   "cell_type": "code",
   "execution_count": 167,
   "id": "colored-corps",
   "metadata": {},
   "outputs": [
    {
     "data": {
      "text/plain": [
       "array([[0.05078125, 0.0272    , 0.0162037 , 0.01041233, 0.00708008,\n",
       "        0.00502972, 0.0037    , 0.00280036],\n",
       "       [0.23359375, 0.16592   , 0.10856481, 0.11349438, 0.10195313,\n",
       "        0.07896662, 0.07067   , 0.05768732],\n",
       "       [0.50273437, 0.45968   , 0.44398148, 0.34777176, 0.35825195,\n",
       "        0.32240512, 0.32708   , 0.28899665],\n",
       "       [1.00546875, 1.04176   , 0.98032407, 0.98917118, 1.00253906,\n",
       "        0.99437586, 0.98901   , 1.00196708]])"
      ]
     },
     "execution_count": 167,
     "metadata": {},
     "output_type": "execute_result"
    }
   ],
   "source": [
    "norm_A_results"
   ]
  }
 ],
 "metadata": {
  "kernelspec": {
   "display_name": "Python 3",
   "language": "python",
   "name": "python3"
  },
  "language_info": {
   "codemirror_mode": {
    "name": "ipython",
    "version": 3
   },
   "file_extension": ".py",
   "mimetype": "text/x-python",
   "name": "python",
   "nbconvert_exporter": "python",
   "pygments_lexer": "ipython3",
   "version": "3.7.7"
  }
 },
 "nbformat": 4,
 "nbformat_minor": 5
}
