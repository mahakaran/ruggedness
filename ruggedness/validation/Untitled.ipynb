{
 "cells": [
  {
   "cell_type": "code",
   "execution_count": 1,
   "id": "accompanied-stopping",
   "metadata": {},
   "outputs": [],
   "source": [
    "# imports\n",
    "import numpy as np\n",
    "import sys\n",
    "sys.path.append('../')\n",
    "from landscape_models import make_NK, make_RMF\n",
    "import matplotlib.pyplot as plt\n",
    "import utils\n",
    "import pandas as pd\n",
    "from ruggedness import NMaximaEstimator\n",
    "from tqdm.notebook import tqdm\n",
    "import seaborn as sns\n",
    "from sklearn.preprocessing import minmax_scale"
   ]
  },
  {
   "cell_type": "code",
   "execution_count": null,
   "id": "permanent-uzbekistan",
   "metadata": {},
   "outputs": [],
   "source": []
  },
  {
   "cell_type": "code",
   "execution_count": 296,
   "id": "electrical-warrant",
   "metadata": {},
   "outputs": [],
   "source": [
    "def run_NK_replicates(Kminus, n_values=[4,5,6,7,8] ,alphabet='AGC', reps=10, dist=np.random.uniform): \n",
    "    ALPHABET = alphabet\n",
    "    SEQ_LENS = n_values \n",
    "    REPL     = reps\n",
    "    DIST     = np.random.uniform\n",
    "    \n",
    "    results = []\n",
    "    ruggs = []\n",
    "    for N in tqdm(SEQ_LENS): \n",
    "        repls = []\n",
    "        for replicate in range(REPL):\n",
    "            #print(N, N-K)\n",
    "            landscape = make_NK(N, N-Kminus, ALPHABET, np.random.uniform)\n",
    "            estimator = NMaximaEstimator(landscape, ALPHABET).fit()\n",
    "            n_maxima  = estimator.n_maxima\n",
    "            repls.append(n_maxima)\n",
    "        results.append(repls)\n",
    "        ruggs.append((N-Kminus)/N)\n",
    "        \n",
    "    results = np.array(results)\n",
    "    \n",
    "    return results, ruggs"
   ]
  },
  {
   "cell_type": "code",
   "execution_count": 297,
   "id": "stuck-wayne",
   "metadata": {},
   "outputs": [
    {
     "data": {
      "application/vnd.jupyter.widget-view+json": {
       "model_id": "abc6c57957a746f581ab79b697b6f587",
       "version_major": 2,
       "version_minor": 0
      },
      "text/plain": [
       "  0%|          | 0/5 [00:00<?, ?it/s]"
      ]
     },
     "metadata": {},
     "output_type": "display_data"
    },
    {
     "data": {
      "application/vnd.jupyter.widget-view+json": {
       "model_id": "49918eb95f4e4c84a825bf233730e9c7",
       "version_major": 2,
       "version_minor": 0
      },
      "text/plain": [
       "  0%|          | 0/5 [00:00<?, ?it/s]"
      ]
     },
     "metadata": {},
     "output_type": "display_data"
    },
    {
     "data": {
      "application/vnd.jupyter.widget-view+json": {
       "model_id": "18bafa9afc2c417fb365b7d70440b013",
       "version_major": 2,
       "version_minor": 0
      },
      "text/plain": [
       "  0%|          | 0/5 [00:00<?, ?it/s]"
      ]
     },
     "metadata": {},
     "output_type": "display_data"
    }
   ],
   "source": [
    "data = []\n",
    "Ks   = [1,2,3]\n",
    "\n",
    "for K in Ks: \n",
    "    data.append(run_NK_replicates(K))\n",
    "\n"
   ]
  },
  {
   "cell_type": "code",
   "execution_count": 300,
   "id": "gross-foundation",
   "metadata": {},
   "outputs": [],
   "source": [
    "x = np.array([i[0] for i in data])"
   ]
  },
  {
   "cell_type": "code",
   "execution_count": 326,
   "id": "streaming-vampire",
   "metadata": {},
   "outputs": [],
   "source": [
    "xmeans = np.mean(x, axis=2)\n",
    "std    = np.std(x, axis=2)"
   ]
  },
  {
   "cell_type": "code",
   "execution_count": 331,
   "id": "overall-jungle",
   "metadata": {},
   "outputs": [
    {
     "data": {
      "text/plain": [
       "array([[ 1.18321596,  2.58650343,  3.49284984,  7.24499827, 20.12560558],\n",
       "       [ 0.89442719,  2.28035085,  3.15594677,  6.49923072, 14.03602508],\n",
       "       [ 0.74833148,  1.37477271,  4.1521079 ,  3.87814389,  8.41189634]])"
      ]
     },
     "execution_count": 331,
     "metadata": {},
     "output_type": "execute_result"
    }
   ],
   "source": [
    "std"
   ]
  },
  {
   "cell_type": "code",
   "execution_count": 330,
   "id": "progressive-victoria",
   "metadata": {},
   "outputs": [
    {
     "data": {
      "text/plain": [
       "array([[  9. ,  22.9,  56. , 146.1, 391.4],\n",
       "       [  5. ,  15. ,  36.2, 100.6, 267.7],\n",
       "       [  3.2,   7.1,  22.6,  63.4, 179.8]])"
      ]
     },
     "execution_count": 330,
     "metadata": {},
     "output_type": "execute_result"
    }
   ],
   "source": [
    "xmeans"
   ]
  },
  {
   "cell_type": "code",
   "execution_count": 332,
   "id": "spanish-reading",
   "metadata": {},
   "outputs": [],
   "source": [
    "percent_error = np.divide(std, xmeans)"
   ]
  },
  {
   "cell_type": "code",
   "execution_count": 333,
   "id": "immediate-month",
   "metadata": {},
   "outputs": [
    {
     "data": {
      "text/plain": [
       "array([[0.13146844, 0.11294775, 0.06237232, 0.04958931, 0.05141953],\n",
       "       [0.17888544, 0.15202339, 0.08718085, 0.06460468, 0.05243192],\n",
       "       [0.23385359, 0.19362996, 0.18372159, 0.06116946, 0.04678474]])"
      ]
     },
     "execution_count": 333,
     "metadata": {},
     "output_type": "execute_result"
    }
   ],
   "source": [
    "percent_error"
   ]
  },
  {
   "cell_type": "code",
   "execution_count": null,
   "id": "normal-ballot",
   "metadata": {},
   "outputs": [],
   "source": []
  },
  {
   "cell_type": "code",
   "execution_count": 307,
   "id": "periodic-carolina",
   "metadata": {},
   "outputs": [],
   "source": [
    "normalisation = lambda A, N: (A**N)/N+1"
   ]
  },
  {
   "cell_type": "code",
   "execution_count": 313,
   "id": "indie-robert",
   "metadata": {},
   "outputs": [],
   "source": [
    "norms = np.array([normalisation(3, i) for i in [4,5,6,7,8]])/2"
   ]
  },
  {
   "cell_type": "code",
   "execution_count": 314,
   "id": "cloudy-smart",
   "metadata": {},
   "outputs": [
    {
     "data": {
      "text/plain": [
       "array([ 10.625     ,  24.8       ,  61.25      , 156.71428571,\n",
       "       410.5625    ])"
      ]
     },
     "execution_count": 314,
     "metadata": {},
     "output_type": "execute_result"
    }
   ],
   "source": [
    "norms"
   ]
  },
  {
   "cell_type": "code",
   "execution_count": 318,
   "id": "tender-arizona",
   "metadata": {},
   "outputs": [],
   "source": [
    "ruggeds = np.array([[K/N for N in [4,5,6,7,8]] for K in Ks])"
   ]
  },
  {
   "cell_type": "code",
   "execution_count": 319,
   "id": "heard-dealer",
   "metadata": {},
   "outputs": [
    {
     "data": {
      "text/plain": [
       "array([[0.25      , 0.2       , 0.16666667, 0.14285714, 0.125     ],\n",
       "       [0.5       , 0.4       , 0.33333333, 0.28571429, 0.25      ],\n",
       "       [0.75      , 0.6       , 0.5       , 0.42857143, 0.375     ]])"
      ]
     },
     "execution_count": 319,
     "metadata": {},
     "output_type": "execute_result"
    }
   ],
   "source": [
    "ruggeds"
   ]
  },
  {
   "cell_type": "code",
   "execution_count": 334,
   "id": "elegant-consultancy",
   "metadata": {},
   "outputs": [],
   "source": [
    "normed = xmeans/norms"
   ]
  },
  {
   "cell_type": "code",
   "execution_count": 335,
   "id": "automatic-appointment",
   "metadata": {},
   "outputs": [],
   "source": [
    "error = np.multiply(normed, percent_error)"
   ]
  },
  {
   "cell_type": "code",
   "execution_count": 337,
   "id": "acute-discussion",
   "metadata": {},
   "outputs": [],
   "source": [
    " n_values=[4,5,6,7,8]"
   ]
  },
  {
   "cell_type": "code",
   "execution_count": 341,
   "id": "front-harvey",
   "metadata": {},
   "outputs": [
    {
     "data": {
      "text/plain": [
       "<matplotlib.legend.Legend at 0x7f2af291f590>"
      ]
     },
     "execution_count": 341,
     "metadata": {},
     "output_type": "execute_result"
    },
    {
     "data": {
      "image/png": "[encoded data removed]",
      "text/plain": [
       "<Figure size 432x288 with 1 Axes>"
      ]
     },
     "metadata": {
      "needs_background": "light"
     },
     "output_type": "display_data"
    }
   ],
   "source": [
    "for i in range(len(normed)): \n",
    "    #plt.plot(n_values,normed[i], marker='.')\n",
    "    plt.errorbar(n_values, normed[i], yerr=error[i], capsize=3, label=Ks[i])\n",
    "plt.legend()\n"
   ]
  },
  {
   "cell_type": "code",
   "execution_count": null,
   "id": "coupled-front",
   "metadata": {},
   "outputs": [],
   "source": []
  }
 ],
 "metadata": {
  "kernelspec": {
   "display_name": "Python 3",
   "language": "python",
   "name": "python3"
  },
  "language_info": {
   "codemirror_mode": {
    "name": "ipython",
    "version": 3
   },
   "file_extension": ".py",
   "mimetype": "text/x-python",
   "name": "python",
   "nbconvert_exporter": "python",
   "pygments_lexer": "ipython3",
   "version": "3.7.7"
  }
 },
 "nbformat": 4,
 "nbformat_minor": 5
}
